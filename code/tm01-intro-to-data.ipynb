{
 "cells": [
  {
   "cell_type": "markdown",
   "metadata": {},
   "source": [
    "![ESRC Logo](../logos/Economic_and_Social_Research_Council_logo.svg)"
   ]
  },
  {
   "cell_type": "markdown",
   "metadata": {},
   "source": [
    "# Using Administrative Data to Understand UK Civil Society Organisations"
   ]
  },
  {
   "cell_type": "markdown",
   "metadata": {},
   "source": [
    "We are an ESRC funded group of collaborators seeking to improve data infrastructure surrounding the UK’s third sector and civil society more generally. The grant is entitled “Improving Access to and Use of Organisation-Level Data on the Third Sector and Civil Society” (Project Reference: ES/X000524/1).\n",
    "\n",
    "In this notebook we demonstrate how to use some of the data resources we constructed during the project. Feedback on these training materials, and the data resources more generally, is very welcome - you can find contact information at the end of this file."
   ]
  },
  {
   "cell_type": "markdown",
   "metadata": {},
   "source": [
    "## Civil Society Organisation Spine"
   ]
  },
  {
   "cell_type": "markdown",
   "metadata": {},
   "source": [
    "The initial data resource of our project is a list or \"spine\" of all formally registered UK third sector and civil society organisations, their names, addresses and dates of registration (and dissolution where relevant). Additionally, where organisations are found in more than one register, we provide a file listing these linkages. Data relating to alternative organisation names and addresses is also collated."
   ]
  },
  {
   "cell_type": "markdown",
   "metadata": {},
   "source": [
    "### Construction of the Spine"
   ]
  },
  {
   "cell_type": "markdown",
   "metadata": {},
   "source": [
    "For general information on how the spine was constructed, including which raw datasets were utilised, how datasets were linked through organisation ids and names and more, please see our short presentation: \n",
    "* [LINK AVAILABLE AFTER RECORDING]()\n",
    "\n",
    "In addition our project website contains a number of blogs on conceptual and definitional issues when analysing UK civil society:\n",
    "* [Motivations for mapping third sector organisations in the UK](https://uk-third-sector-database.github.io/_posts/2024/001/blog-post-2)\n",
    "* [Building a foundational dataset of third sector organisations in the UK](https://uk-third-sector-database.github.io/_posts/2024/001/blog-post-3/)"
   ]
  },
  {
   "cell_type": "markdown",
   "metadata": {},
   "source": [
    "### Downloading the Data\n",
    "\n",
    "The latest versions of the dataset are found on the project webpage https://uk-third-sector-database.github.io/data/\n",
    "\n",
    "For this lesson we download and unzip the data directly from source - for your purposes you will likely download it to your machine first."
   ]
  },
  {
   "cell_type": "markdown",
   "metadata": {},
   "source": [
    "Our first task is to ensure we have the functionality we need to handling the data in Python (the programming language this notebook uses)."
   ]
  },
  {
   "cell_type": "code",
   "execution_count": null,
   "metadata": {},
   "outputs": [],
   "source": [
    "import pandas as pd\n",
    "import os\n",
    "import zipfile\n",
    "import urllib.request\n",
    "from IPython.display import display"
   ]
  },
  {
   "cell_type": "code",
   "execution_count": null,
   "metadata": {},
   "outputs": [],
   "source": [
    "url = \"https://github.com/uk-third-sector-database/tso-database-builder/raw/new-build-spine/tso-spine-files.March2025.zip?download=\"\n",
    "local_path, _ = urllib.request.urlretrieve(url)\n",
    "\n",
    "with zipfile.ZipFile(local_path, 'r') as zf:\n",
    "    zf.extractall()"
   ]
  },
  {
   "cell_type": "markdown",
   "metadata": {},
   "source": [
    "### Importing the Data"
   ]
  },
  {
   "cell_type": "markdown",
   "metadata": {},
   "source": [
    "The main file in the spine download is dataset containing one row per civil society organisation and some core information about each entity."
   ]
  },
  {
   "cell_type": "code",
   "execution_count": null,
   "metadata": {},
   "outputs": [],
   "source": [
    "spine_df = pd.read_csv('public_spine.spine.csv')"
   ]
  },
  {
   "cell_type": "code",
   "execution_count": null,
   "metadata": {},
   "outputs": [],
   "source": [
    "print('The top 5 rows of the spine data are:')\n",
    "display(spine_df.head())\n",
    "print('\\nThe summary statistics of the spine data are:')\n",
    "display(spine_df.describe())\n",
    "print(f'\\nThe spine data has {spine_df.shape[0]} rows and {spine_df.shape[1]} columns.\\n')\n",
    "print(f'Spine data columns are: {list(spine_df.columns)}.\\n')\n"
   ]
  },
  {
   "cell_type": "markdown",
   "metadata": {},
   "source": [
    "### Exploring the Data"
   ]
  },
  {
   "cell_type": "markdown",
   "metadata": {},
   "source": [
    "The previous section provides some basic metadata about the spine: it contains over 750k unique organisations and a brief number of fields / variables describing these entities. As part of these training materials we demonstrate how to combine the spine with census and geographic administrative data to answer important social science research questions.\n",
    "\n",
    "However there are some interesting features of the spine that we can explore just now."
   ]
  },
  {
   "cell_type": "markdown",
   "metadata": {},
   "source": [
    "For example, how many organisations are registered as Community Interest Companies (CICs)?"
   ]
  },
  {
   "cell_type": "code",
   "execution_count": null,
   "metadata": {},
   "outputs": [],
   "source": [
    "spine_df[\"is_cic\"].value_counts()"
   ]
  },
  {
   "cell_type": "markdown",
   "metadata": {},
   "source": [
    "Or what data sources provide the most instances of organisations in the spine?"
   ]
  },
  {
   "cell_type": "code",
   "execution_count": null,
   "metadata": {},
   "outputs": [],
   "source": [
    "spine_df['source'] = spine_df['uid'].str.split('-').str[1]\n",
    "spine_df['source'].value_counts()"
   ]
  },
  {
   "cell_type": "markdown",
   "metadata": {},
   "source": [
    "We can see that the Charity Commission for England and Wales provided the most records for organisations in the spine, followed by Companies House and Scottish Charity Regulator."
   ]
  },
  {
   "cell_type": "markdown",
   "metadata": {},
   "source": [
    "We can examine when individual organisations were registered with their respective source."
   ]
  },
  {
   "cell_type": "code",
   "execution_count": null,
   "metadata": {},
   "outputs": [],
   "source": [
    "spine_df['registerdate'] = pd.to_datetime(spine_df['registerdate'], dayfirst=True)\n",
    "spine_df['regy'] = spine_df['registerdate'].dt.year"
   ]
  },
  {
   "cell_type": "code",
   "execution_count": null,
   "metadata": {},
   "outputs": [],
   "source": [
    "summary = (\n",
    "    spine_df\n",
    "    .groupby('source')['regy']\n",
    "    .agg(earliest_year='min', typical_year='median', latest_year='max')\n",
    "    .reset_index()\n",
    ")\n",
    "\n",
    "print(summary)"
   ]
  },
  {
   "cell_type": "markdown",
   "metadata": {},
   "source": [
    "Finally, we can examine how many organisations have been deregistered with their respective source."
   ]
  },
  {
   "cell_type": "code",
   "execution_count": null,
   "metadata": {},
   "outputs": [],
   "source": [
    "count_removed = (\n",
    "    spine_df\n",
    "    .groupby('source')\n",
    "    .agg(removed_organisations=('removeddate', 'count'))\n",
    "    .reset_index()\n",
    ")\n",
    "\n",
    "print(count_removed)"
   ]
  },
  {
   "cell_type": "markdown",
   "metadata": {},
   "source": [
    "### Examining Matches Between Organisations"
   ]
  },
  {
   "cell_type": "markdown",
   "metadata": {},
   "source": [
    "One of the challenges in constructing the spine was implementing a process for determining which record to list for each organisation, as many entities are registered with multiple sources. For example, a charity registered in England and Wales can operate in Scotland (and thus be registered with the Scottish Charity Regulator) and be registered with the Care Quality Commission (CQC). Other examples include charities that change legal form and thus require a new registration with the Charity Commission.\n",
    "\n",
    "To address this issue we created a data resource that allows users to look up all of the matches for an organisation list on the spine."
   ]
  },
  {
   "cell_type": "code",
   "execution_count": null,
   "metadata": {},
   "outputs": [],
   "source": [
    "matches_df = pd.read_csv('public_spine.matches.csv')"
   ]
  },
  {
   "cell_type": "code",
   "execution_count": null,
   "metadata": {},
   "outputs": [],
   "source": [
    "print(f'\\nThe matches data has {matches_df.shape[0]} rows and {matches_df.shape[1]} columns.\\n')\n",
    "print(f'matches data columns are: {list(matches_df.columns)}.\\n')\n",
    "print('The top 5 rows of the matches data are:')\n",
    "display(matches_df.head())\n",
    "print('\\nThe summary statistics of the matches data are:')\n",
    "display(matches_df.describe())"
   ]
  },
  {
   "cell_type": "markdown",
   "metadata": {},
   "source": [
    "If a match is assured, using the rules described in the associated documents, then the 'uid' is the same as a row in the spine, for example uid GB-CHC-200009:"
   ]
  },
  {
   "cell_type": "code",
   "execution_count": null,
   "metadata": {},
   "outputs": [],
   "source": [
    "display(matches_df[matches_df['uid'] == 'GB-CHC-200009'])"
   ]
  },
  {
   "cell_type": "code",
   "execution_count": null,
   "metadata": {},
   "outputs": [],
   "source": [
    "display(spine_df[spine_df['uid']=='GB-CHC-200009'])\n",
    "display(spine_df[spine_df['uid']=='GB-COH-00686799'])"
   ]
  },
  {
   "cell_type": "markdown",
   "metadata": {},
   "source": [
    "So 'The Ralph Levy Charitable Company Limited' is in the spine, but the matched organisation 'GB-COH-00686799' is not, since these have been found to be the same organisation. \n",
    "\n",
    "The 'match_type' field in public_spine.matches.csv shows how the match was determined; in this case 'companyid - id_in_source' comes from the Charity Commission register having a note of the associated record at Companies House."
   ]
  },
  {
   "cell_type": "markdown",
   "metadata": {},
   "source": [
    "While there are some obvious matches (the Companies House record of an incorporated charity, for example), others are of more substantive interest. For example, how many charities are also registered with the Care regulators?"
   ]
  },
  {
   "cell_type": "code",
   "execution_count": null,
   "metadata": {},
   "outputs": [],
   "source": [
    "mask = (\n",
    "    matches_df['orgA_source'].isin(['CCEW', 'OSCR']) &\n",
    "    matches_df['orgB_source'].isin(['CareInspectorateScot', 'CareQualityCommission'])\n",
    ")\n",
    "\n",
    "ct = pd.crosstab(\n",
    "    matches_df.loc[mask, 'orgA_source'],\n",
    "    matches_df.loc[mask, 'orgB_source'],\n",
    "    margins=True\n",
    ")\n",
    "\n",
    "print(ct)"
   ]
  },
  {
   "cell_type": "markdown",
   "metadata": {},
   "source": [
    "There are more Scottish charities with the Care Inspectorate than there are English and Welsh charities registered with the Care Quality Commission."
   ]
  },
  {
   "cell_type": "markdown",
   "metadata": {},
   "source": [
    "### Gathering Supplementary Information for Organisations"
   ]
  },
  {
   "cell_type": "markdown",
   "metadata": {},
   "source": [
    "A consequence of the matching process is the generation of additional information about each organisation. For example, a charity may have a different registration or removal date with Companies House, or a different address listed with the Care Quality Commission. We can examine this supplementary information in the third and final dataset associated with the spine."
   ]
  },
  {
   "cell_type": "code",
   "execution_count": null,
   "metadata": {},
   "outputs": [],
   "source": [
    "supplementary_df = pd.read_csv('public_spine.supplementary.csv')"
   ]
  },
  {
   "cell_type": "code",
   "execution_count": null,
   "metadata": {},
   "outputs": [],
   "source": [
    "print(f'\\nThe supplementary data has {supplementary_df.shape[0]} rows and {supplementary_df.shape[1]} columns.\\n')\n",
    "print(f'supplementary data columns are: {list(supplementary_df.columns)}.\\n')\n",
    "print('The top 5 rows of the supplementary data are:')\n",
    "display(supplementary_df.head())\n",
    "print('\\nThe summary statistics of the supplementary data are:')\n",
    "display(supplementary_df.describe())"
   ]
  },
  {
   "cell_type": "markdown",
   "metadata": {},
   "source": [
    "Using the same example of the Ralph Levy Charitable Company, we find the following data in the supplementary dataset for the organisation, from both the Charity Commission (CCEW) and Companies House (CH):"
   ]
  },
  {
   "cell_type": "code",
   "execution_count": null,
   "metadata": {},
   "outputs": [],
   "source": [
    "display(supplementary_df[supplementary_df['uid']=='GB-CHC-200009'])\n",
    "display(supplementary_df[supplementary_df['uid']=='GB-COH-00686799'])"
   ]
  },
  {
   "cell_type": "markdown",
   "metadata": {},
   "source": [
    "These rows show four previous addresses for the organisation, and two alternative registration dates."
   ]
  },
  {
   "cell_type": "markdown",
   "metadata": {},
   "source": [
    "### Conclusion"
   ]
  },
  {
   "cell_type": "markdown",
   "metadata": {},
   "source": [
    "The spine was designed to be flexible to user needs. We defined civil society organisations broadly to allow users to select sub-samples or exclude certain types of organisations depending on the analysis. We wanted a file containing one row per organisation to aid usability and interpretability, while not losing the richness and variation that comes with having some organisations registered with multiple sources."
   ]
  },
  {
   "cell_type": "markdown",
   "metadata": {},
   "source": [
    "To see how the spine can be combined with other sources of data to answer social science research questions, please see our short recording: \n",
    "* [LINK AVAILABLE AFTER RECORDING]()"
   ]
  },
  {
   "cell_type": "markdown",
   "metadata": {},
   "source": [
    "### Feedback"
   ]
  },
  {
   "cell_type": "markdown",
   "metadata": {},
   "source": [
    "We welcome feedback - critical and complementary - on the training materials and the data resources more generally. Please get in contact with:\n",
    "* Professor Alasdair Rutherford, University of Stirling (alasdair.rutherford@stir.ac.uk)\n",
    "* Dr Diarmuid McDonnell, University of the West of Scotland (diarmuid.mcdonnell@uws.ac.uk)"
   ]
  },
  {
   "cell_type": "markdown",
   "metadata": {},
   "source": [
    "We are particularly interested in ideas for improving the data resources or research questions that involve the use of the data."
   ]
  }
 ],
 "metadata": {
  "kernelspec": {
   "display_name": "Python 3 (ipykernel)",
   "language": "python",
   "name": "python3"
  },
  "language_info": {
   "codemirror_mode": {
    "name": "ipython",
    "version": 3
   },
   "file_extension": ".py",
   "mimetype": "text/x-python",
   "name": "python",
   "nbconvert_exporter": "python",
   "pygments_lexer": "ipython3",
   "version": "3.11.2"
  }
 },
 "nbformat": 4,
 "nbformat_minor": 4
}
